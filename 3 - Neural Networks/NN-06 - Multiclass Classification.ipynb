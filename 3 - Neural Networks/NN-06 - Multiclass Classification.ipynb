{
 "cells": [
  {
   "cell_type": "markdown",
   "metadata": {},
   "source": [
    "# Neural Networks - Multiclass Classification\n",
    "Multiclass classification is, (duh), when you distinguish between more than two categories (i.e. more than 2)\n",
    "- With handwritten digital recognition problem - 10 possible categories (0-9)\n",
    "  - How do you do that?\n",
    "  - Done using an extension of one vs. all classification\n",
    "  <p>\n",
    "- Recognizing pedestrian, car, motorbike or truck\n",
    "  - Build a neural network with 4 output units\n",
    "  - Output a vector of four numbers\n",
    "    - 1 is 0/1 pedestrian\n",
    "    - 2 is 0/1 car\n",
    "    - 3 is 0/1 motorcycle\n",
    "    - 4 is 0/1 truck\n",
    "  - When image is a pedestrian get [1,0,0,0] and so on\n",
    "  <img src=\"images/Multiclass classification - 1.png\">\n",
    "  - Training set here is images of our four classifications\n",
    "  - While previously we'd written y as an integer {1,2,3,4}\n",
    "    - Now represent $y$ as\n",
    "    <img src=\"images/Multiclass classification - 2.png\">"
   ]
  }
 ],
 "metadata": {
  "kernelspec": {
   "display_name": "Python 2",
   "language": "python",
   "name": "python2"
  },
  "language_info": {
   "codemirror_mode": {
    "name": "ipython",
    "version": 2
   },
   "file_extension": ".py",
   "mimetype": "text/x-python",
   "name": "python",
   "nbconvert_exporter": "python",
   "pygments_lexer": "ipython2",
   "version": "2.7.6"
  }
 },
 "nbformat": 4,
 "nbformat_minor": 0
}
