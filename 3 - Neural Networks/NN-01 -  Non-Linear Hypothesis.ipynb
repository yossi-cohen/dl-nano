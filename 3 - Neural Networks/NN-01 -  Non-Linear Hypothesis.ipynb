{
 "cells": [
  {
   "cell_type": "markdown",
   "metadata": {},
   "source": [
    "# Neural Networks - Non-Linear Hypothesis"
   ]
  },
  {
   "cell_type": "markdown",
   "metadata": {},
   "source": [
    "## Why do we need neural networks?\n",
    "- Say we have a complex supervised learning classification problem\n",
    "- Can use logistic regression with many polynomial terms\n",
    "  - Works well when you have 1-2 features\n",
    "  - If you have 100 features ... (e.g. our housing example with 100 house features)\n",
    "    - There are lots of them $(x_1^2 ,x_1x_2, x_1x_4 ..., x_1x100)$\n",
    "    - For the case of $n = 100$, you have about $5000$ features (Number of features grows $O(n^2)$)\n",
    "    - This would be computationally expensive to work with as a feature set\n",
    "  - A way around this to only include a subset of features\n",
    "    - However, if you don't have enough features, often a model won't let you fit a complex dataset\n",
    "  - If you include the cubic terms\n",
    "    - e.g. $(x_1^2x2, x_1x_2x_3, x_1x_4x_2^3)$ etc\n",
    "    - There are even more features grows **<font color=\"#E30000\">$O(n^3)$</font>**\n",
    "    - **<font color=\"#E30000\">About $170,000$ features for $n = 100$</font>**\n",
    "    <img src=\"images/non-linear classification.png\">"
   ]
  },
  {
   "cell_type": "markdown",
   "metadata": {},
   "source": [
    "## Example: Problems where $n$ is large - computer vision\n",
    "- Computer vision sees a matrix of pixel intensity values\n",
    "- Look at matrix - explain what those numbers represent\n",
    "<img src=\"images/computer vision.png\">\n",
    "\n",
    "## Build a car detector\n",
    "    - Build a training set of\n",
    "      - Not cars\n",
    "      - Cars\n",
    "    - Then test against a car\n",
    "<img src=\"images/computer vision - car detection.png\">"
   ]
  },
  {
   "cell_type": "markdown",
   "metadata": {},
   "source": [
    "## How can we do this\n",
    "- Plot two pixels (two pixel locations)\n",
    "- Plot car or not car on the graph\n",
    "\n",
    "### We need a non-linear hypothesis to separate the classes\n",
    "- Feature space\n",
    "  - If we used 50 x 50 pixels --> 2500 pixels, so $n = 2500$\n",
    "  - If RGB then $n = 7500$\n",
    "  - If 100 x 100 RGB then --> $n = 3,000,000$ features\n",
    "  - Too big - wayyy too big\n",
    "\n",
    "<img src=\"images/computer vision - learning algorithm.png\">\n",
    "\n",
    "- ### So - simple logistic regression here is not appropriate for large complex systems\n",
    "- ### Neural networks are much better for a complex nonlinear hypothesis even when feature space is huge"
   ]
  }
 ],
 "metadata": {
  "kernelspec": {
   "display_name": "Python 2",
   "language": "python",
   "name": "python2"
  },
  "language_info": {
   "codemirror_mode": {
    "name": "ipython",
    "version": 2
   },
   "file_extension": ".py",
   "mimetype": "text/x-python",
   "name": "python",
   "nbconvert_exporter": "python",
   "pygments_lexer": "ipython2",
   "version": "2.7.6"
  }
 },
 "nbformat": 4,
 "nbformat_minor": 0
}
