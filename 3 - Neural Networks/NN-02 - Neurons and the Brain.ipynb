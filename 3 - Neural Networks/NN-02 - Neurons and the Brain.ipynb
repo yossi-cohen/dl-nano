{
 "cells": [
  {
   "cell_type": "markdown",
   "metadata": {},
   "source": [
    "# Neural Networks - Neurons and the Brain\n",
    "<font color=\"#1C3387\">Neural networks (NNs)</font> were originally motivated by looking at machines \n",
    "which mimic brain's functionality\n",
    "<br>\n",
    "- Origins\n",
    "  - Used a lot in the 80s and 90s\n",
    "  - Popularity diminished in late 90s\n",
    "  - Why?\n",
    "    - NNs are computationally expensive, so only recently large scale neural networks became computationally feasible"
   ]
  },
  {
   "cell_type": "markdown",
   "metadata": {},
   "source": [
    "# Brain hypothesis\n",
    "- Hypothesis is that the brain has **<font color=\"#1C3387\">a single learning algorithm</font>**\n",
    "- Evidence for hypothesis\n",
    "  - *Auditory cortex* --> takes sound signals\n",
    "    - If you **<font color=\"#1C3387\">cut the wiring</font>** from the ear to the auditory cortex\n",
    "    - **<font color=\"#1C3387\">Re-route</font>** optic nerve to the auditory cortex\n",
    "    - Auditory cortex **<font color=\"#1C3387\">learns to see</font>**\n",
    "  - Same for *Somatosensory* context (touch processing)\n",
    "- With different tissue learning to see, maybe they all learn in the same way\n",
    "  - Brain learns by itself how to learn"
   ]
  }
 ],
 "metadata": {
  "kernelspec": {
   "display_name": "Python 2",
   "language": "python",
   "name": "python2"
  },
  "language_info": {
   "codemirror_mode": {
    "name": "ipython",
    "version": 2
   },
   "file_extension": ".py",
   "mimetype": "text/x-python",
   "name": "python",
   "nbconvert_exporter": "python",
   "pygments_lexer": "ipython2",
   "version": "2.7.6"
  }
 },
 "nbformat": 4,
 "nbformat_minor": 0
}
