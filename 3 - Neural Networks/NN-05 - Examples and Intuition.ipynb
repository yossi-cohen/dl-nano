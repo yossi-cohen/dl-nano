{
 "cells": [
  {
   "cell_type": "markdown",
   "metadata": {},
   "source": [
    "# Neural Networks - Examples and Intuition"
   ]
  },
  {
   "cell_type": "markdown",
   "metadata": {},
   "source": [
    "## Computing a complex, nonlinear function of the input\n",
    "Non-linear classification: XOR/XNOR\n",
    " - $x_1$, $x_2$ are binary\n",
    " <p>\n",
    " - Example on the left shows a simplified version of the more complex problem we're dealing with (on the right)\n",
    " \n",
    " <img src=\"images/XNOR example.png\">\n",
    "\n",
    " - We want to learn a non-linear decision boundary to separate the positive and negative examples\n",
    "   - <font color=\"blue\">$y = x_1$ XOR $x_2$</font>\n",
    "     <img src=\"images/XOR.png\">\n",
    "   - <font color=\"blue\">$y = x_1$ XNOR $x_2$</font>\n",
    "     - Where XNOR = NOT ($x_1$ XOR $x_2$)\n",
    "     - Positive examples when both are true and both are false\n",
    "     <img src=\"images/XNOR.png\">\n",
    " <p>\n",
    " - ### Let's start with something a little more straight forward..."
   ]
  },
  {
   "cell_type": "markdown",
   "metadata": {},
   "source": [
    "## Example 1: AND function\n",
    "- Simple first example\n",
    "<img src=\"images/NN-AND-0.png\">\n",
    "- Can we get a one-unit neural network to compute this logical AND function? (probably...)\n",
    "  - Add a bias unit\n",
    "  - Add some weights for the networks\n",
    "    - don't worry about how we're determining the weights ($Ɵ$ values) for now\n",
    "<img src=\"images/NN-AND-1.png\">\n",
    "- Look at the four input values\n",
    "<img src=\"images/NN-AND-2.png\">"
   ]
  },
  {
   "cell_type": "markdown",
   "metadata": {},
   "source": [
    "## Example 2: NOT function\n",
    "- How about negation?\n",
    "  - Negation is achieved by putting a large negative weight in front of the variable you want to negative\n",
    "<img src=\"images/NN-NOT.png\">"
   ]
  },
  {
   "cell_type": "markdown",
   "metadata": {},
   "source": [
    "## Example 3: XNOR function\n",
    "- So how do we make the XNOR function work?\n",
    "  - We want to structure this so the input which produce a positive output are\n",
    "    - <font color=\"blue\">AND</font> (i.e. both true)\n",
    "    <br>**OR**\n",
    "    - <font color=\"blue\">Neither</font> (which we can shortcut by saying not only one being true)\n",
    "- So we combine these into a neural network as shown below:\n",
    "<img src=\"images/NN-XNOR.png\">"
   ]
  }
 ],
 "metadata": {
  "kernelspec": {
   "display_name": "Python 2",
   "language": "python",
   "name": "python2"
  },
  "language_info": {
   "codemirror_mode": {
    "name": "ipython",
    "version": 2
   },
   "file_extension": ".py",
   "mimetype": "text/x-python",
   "name": "python",
   "nbconvert_exporter": "python",
   "pygments_lexer": "ipython2",
   "version": "2.7.6"
  }
 },
 "nbformat": 4,
 "nbformat_minor": 0
}
