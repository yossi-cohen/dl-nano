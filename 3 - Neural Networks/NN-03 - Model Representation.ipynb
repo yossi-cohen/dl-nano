{
 "cells": [
  {
   "cell_type": "markdown",
   "metadata": {},
   "source": [
    "# Neural Networks - Model Representation - I\n",
    "How do we represent neural networks (NNs)?\n",
    "- Neural networks were developed as a way to simulate networks of neurones"
   ]
  },
  {
   "cell_type": "markdown",
   "metadata": {},
   "source": [
    "## What does a neurone look like\n",
    "- Three things to notice\n",
    "  - **<font color=\"#1C3387\">Cell body</font>**\n",
    "  - Number of input wires **<font color=\"#1C3387\">(dendrites)</font>**\n",
    "  - Output wire **<font color=\"#1C3387\">(axon)</font>**\n",
    "<img src=\"images/brain neuron.png\">\n",
    "- Simple level\n",
    "  - Neurone gets one or more **<font color=\"#1C3387\">inputs through dendrites</font>**\n",
    "  - Does **<font color=\"#1C3387\">processing</font>**\n",
    "  - Sends **<font color=\"#1C3387\">output down axon</font>** \n",
    "    (electric spikes - pulse of electricity via axon to another neurone)"
   ]
  },
  {
   "cell_type": "markdown",
   "metadata": {},
   "source": [
    "## Artificial neural network - representation of a neurone\n",
    "- In an artificial neural network, a neurone is a **<font color=\"#1C3387\">logistic unit</font>**\n",
    "- That logistic computation is just like our previous logistic regression hypothesis calculation\n",
    "  - Feed input via input wires\n",
    "  - Logistic unit does computation\n",
    "  - Sends output down output wires\n",
    "<img src=\"images/representation of a neurone.png\">\n",
    "- Very simple model of a neuron's computation\n",
    "  - Often good to include an $x_0$ input - the **<font color=\"#1C3387\">bias unit</font>** (this is equal to 1)\n",
    "- This is an artificial neurone with a **<font color=\"#1C3387\">sigmoid (logistic) activation function</font>**\n",
    "  - $Ɵ$ vector may also be called the **<font color=\"#1C3387\">weights</font>** of a model"
   ]
  },
  {
   "cell_type": "markdown",
   "metadata": {},
   "source": [
    "## A group of neurones strung together\n",
    "- Input is $x_1$, $x_2$ and $x_3$\n",
    "- Three neurones in layer 2 ($a_1^2$, $a_2^2$ and $a_3^2$)\n",
    "- Final fourth neurone which produces the output ($a_1^3$)\n",
    "<img src=\"images/neural network - 1.png\">\n",
    "- First layer is the **<font color=\"#1C3387\">input layer</font>**\n",
    "- Final layer is the **<font color=\"#1C3387\">output layer</font>** - produces value computed by a hypothesis\n",
    "- Middle layer(s) are called the **<font color=\"#1C3387\">hidden layers</font>**\n",
    "  - You don't observe the values processed in the hidden layer\n",
    "  - Not a great name\n",
    "  - Can have many hidden layers"
   ]
  },
  {
   "cell_type": "markdown",
   "metadata": {},
   "source": [
    "## Neural networks - notation\n",
    "- **<font color=\"#E30000\">$a_i(j)$ - activation of unit $i$ in layer $j$</font>**\n",
    "  - e.g., $a_1^2$ - is the activation of the 1<sup>st</sup> unit in the second layer\n",
    "  - By *<font color=\"#1C3387\">activation</font>*, we mean the value which is computed and output by that node\n",
    "<p>\n",
    "- **<font color=\"#E30000\">$Ɵ^j$ - matrix of parameters controlling the function mapping \n",
    "  from layer $j$ to layer $j + 1$</font>**\n",
    "  - Parameters are controlling the *<font color=\"#1C3387\">mapping</font>* from one layer to the next\n",
    "    - If network has\n",
    "      - **<font color=\"#1C3387\">$s_j$</font>** units in layer **<font color=\"#1C3387\">$j$</font>** and\n",
    "      - **<font color=\"#1C3387\">$s$<sup>$j+1$</sup></font>** units in layer \n",
    "        **<font color=\"#1C3387\">$j + 1$</font>**\n",
    "      - Then **<font color=\"#1C3387\">$Ɵ^j$</font>** will be of dimensions \n",
    "        **<font color=\"#1C3387\">$[s$<sub>$j+1$</sub> X $s_j + 1]$</font>**\n",
    "        - Because\n",
    "          - $s$<sub>$j+1$</sub> is equal to the number of units in layer $(j + 1)$\n",
    "          - is equal to the number of units in layer $j$, plus an additional unit (bias)\n",
    "    - Looking at the $Ɵ$ matrix\n",
    "      - Column length = the number of units in the following layer\n",
    "      - Row length = the number of units in the current layer + 1 (bias unit)\n",
    "      - So, if we had two layers - 101 and 21 units in each\n",
    "        - Then $Ɵ^j$ size would be $[21$ x $102]$"
   ]
  },
  {
   "cell_type": "markdown",
   "metadata": {},
   "source": [
    "## What is the computation performed\n",
    "- We have to calculate the activation for each node\n",
    "- Activation depends on\n",
    "  - The input(s) to the node\n",
    "  - The parameters associated with that node (from the $Ɵ$ vector associated with that layer)\n",
    "\n",
    "### Example\n",
    "A network, with the associated calculations for the 4 nodes\n",
    "- Calculate each of the layer-2 activations based on the input values with the bias term\n",
    "  - <font color=\"#E30000\">Every input/activation goes to every node in following layer</font>\n",
    "- The activation value on each hidden unit (e.g. $a_1^2$ ) is equal to the sigmoid function \n",
    "  applied to the linear combination of inputs\n",
    "  - Three input units\n",
    "    - $Ɵ$<sup>$(1)$</sup> is the matrix of parameters mapping the input units to hidden units\n",
    "    - $Ɵ$<sup>$(1)$</sup> here is a [3 x 4] dimensional matrix\n",
    "  - Three hidden units\n",
    "    - $Ɵ$<sup>$(2)$</sup> is the matrix of parameters mapping the hidden layer to output layer\n",
    "    - $Ɵ$<sup>$(2)$</sup> here is a [1 x 4] dimensional matrix\n",
    "<img src=\"images/four nodes - activation example.png\">"
   ]
  },
  {
   "cell_type": "markdown",
   "metadata": {},
   "source": [
    " ### Perhaps more clearly shown as:\n",
    " Each \"layer transition\" uses a matrix of parameters with the following significance\n",
    " <br>For example:\n",
    " - $Ɵ$<sub><font color=\"green\"><b>1</b></font><font color=\"purple\"><b>3</b></font>\n",
    "   </sub><font color=\"blue\"><b>$^1$</b></font> = means\n",
    "   - <font color=\"green\"><b>$1$</b></font> - we're mapping to node $1$ in layer $l+1$\n",
    "   - <font color=\"purple\"><b>$3$</b></font> - we're mapping from node $3$ in layer $l$\n",
    "   - <font color=\"blue\"><b>$1$</b></font> - we're mapping from layer $1$\n",
    " <img src=\"images/activation explained.png\">"
   ]
  }
 ],
 "metadata": {
  "kernelspec": {
   "display_name": "Python 2",
   "language": "python",
   "name": "python2"
  },
  "language_info": {
   "codemirror_mode": {
    "name": "ipython",
    "version": 2
   },
   "file_extension": ".py",
   "mimetype": "text/x-python",
   "name": "python",
   "nbconvert_exporter": "python",
   "pygments_lexer": "ipython2",
   "version": "2.7.6"
  }
 },
 "nbformat": 4,
 "nbformat_minor": 0
}
