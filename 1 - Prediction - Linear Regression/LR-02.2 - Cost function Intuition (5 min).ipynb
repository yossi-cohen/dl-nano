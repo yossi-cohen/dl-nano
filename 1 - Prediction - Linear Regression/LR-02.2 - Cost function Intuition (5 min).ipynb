{
 "cells": [
  {
   "cell_type": "markdown",
   "metadata": {
    "collapsed": false
   },
   "source": [
    "# Cost function - intuition\n",
    "\n",
    "- ### In the previous slide we gave a mathematical definition of the cost function\n",
    "- ### in this slide lets look at some examples to get a better intuition about \n",
    "  - ### <font color=\"blue\">what the cost function is doing</font>\n",
    "  - ### <font color=\"blue\">why we want to use it</font>"
   ]
  },
  {
   "cell_type": "markdown",
   "metadata": {},
   "source": [
    "## This is what we have until now\n",
    "<img src=\"images/cost function - recap.png\">"
   ]
  },
  {
   "cell_type": "markdown",
   "metadata": {},
   "source": [
    "## To better visualize the cost function, consider a simplified hypothesis where $θ_0 = 0$\n",
    "<img src=\"images/simplified hypothesis.png\">\n",
    "- So hypothesis pass through $0,0$\n",
    "- Two key functions we want to understand\n",
    "  -  $h_θ(x)$ : Hypothesis is a function of $x$ (e.g., function of what the size of the house is)\n",
    "  - $J(θ_1)$  : Is a function of the parameter of $θ_1$\n",
    "\n",
    "### Lets plot these functions to understand them better\n",
    "- <font color=\"red\">red crosses</font> are the training set {$(1,1), (2,2), (3,3)$}\n",
    "- **black line** is our hypothesis\n",
    "  <img src=\"images/h_of_x vs j_of_theta - 1.png\">\n",
    "\n",
    "### What if $θ = 0.5$ ?\n",
    "- ### Lets compute $J(0.5)$\n",
    "  <img src=\"images/h_of_x vs j_of_theta - 2.png\">\n",
    "  \n",
    "### Fast forward...\n",
    "\n",
    "  - $θ_1 = 1$    =>    $J(θ_1) = 0$\n",
    "  - $θ_1 = 0.5$  =>    $J(θ_1) = ~0.58$\n",
    "  - $θ_1 = 0$    =>    $J(θ_1) = ~2.3$\n",
    "\n",
    "- Plot $J(θ_1)$ vs $θ_1$:\n",
    "  <br>we get a polynomial (looks like a quadratic)\n",
    "  <img src=\"images/h_of_x vs j_of_theta - 3.png\">\n",
    "\n",
    "- The optimization objective for the learning algorithm is find the value \n",
    "  of $θ_1$ which minimizes $J(θ_1)$\n",
    "- So, here $θ_1 = 1$ is the best value for $θ_1$"
   ]
  },
  {
   "cell_type": "markdown",
   "metadata": {},
   "source": [
    "## In case we have 2 parameters $(θ_0, θ_1)$\n",
    "<img src=\"images/cost function with 2 parameters.png\">\n",
    "\n",
    "## Now $H(θ)$ is a $3D$ surface\n",
    "<img src=\"images/h_of_x vs j_of_theta - 2 parameters.png\">\n",
    "- ### Generates a $3D$ surface plot where axis are:\n",
    "  - $X = θ_0$\n",
    "  - $Z = θ_1$\n",
    "  - $Y = J(θ_0, θ_1)$\n",
    "  <img src=\"images/J-3D.png\">\n",
    "\n",
    "We can see that the height $Y$ indicates the value of the cost function, so find where $Y$ is at a minimum\n",
    " - ### <font color=\"red\" size=\"4em\">Doing this by eye/hand is a pain in the ass</font>\n",
    " - What we really want is an efficient algorithm for finding the minimum for $θ_0$ and $θ_1$"
   ]
  },
  {
   "cell_type": "markdown",
   "metadata": {},
   "source": [
    "## <font color=\"red\">Next: Algorithm for minimizing the cost function (*Gradient Descent*) ...</font>"
   ]
  }
 ],
 "metadata": {
  "kernelspec": {
   "display_name": "Python 2",
   "language": "python",
   "name": "python2"
  },
  "language_info": {
   "codemirror_mode": {
    "name": "ipython",
    "version": 2
   },
   "file_extension": ".py",
   "mimetype": "text/x-python",
   "name": "python",
   "nbconvert_exporter": "python",
   "pygments_lexer": "ipython2",
   "version": "2.7.6"
  }
 },
 "nbformat": 4,
 "nbformat_minor": 0
}
