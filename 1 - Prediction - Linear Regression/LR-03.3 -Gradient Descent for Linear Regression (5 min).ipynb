{
 "cells": [
  {
   "cell_type": "markdown",
   "metadata": {
    "collapsed": false
   },
   "source": [
    "# Linear regression with gradient descent\n",
    "\n",
    "Apply gradient descent to minimize the squared error cost function $J(θ_0, θ_1)$"
   ]
  },
  {
   "cell_type": "markdown",
   "metadata": {},
   "source": [
    "Now we have a partial derivative\n",
    "<img src=\"images/Linear regression with gradient descent.png\">\n",
    "just expanding out the first expression"
   ]
  },
  {
   "cell_type": "markdown",
   "metadata": {},
   "source": [
    "So we need to determine the derivative for each parameter - i.e.\n",
    "- When $j = 0$\n",
    "- When $j = 1$\n",
    "<img src=\"images/Linear regression with gradient descent - 2.png\">"
   ]
  },
  {
   "cell_type": "markdown",
   "metadata": {},
   "source": [
    "plug these values back into the gradient descent algorithm\n",
    "<img src=\"images/gradient descent algorithm.png\">"
   ]
  },
  {
   "cell_type": "markdown",
   "metadata": {},
   "source": [
    "End up at a global minimum\n",
    " - The linear regression *cost function* is always a *<b><font color=\"#1C3387\">convex function</font></b>* \n",
    "   - Bowl shaped, always has a single (global) minimum\n",
    "<img src=\"images/Linear regression with gradient descent - 3.png\">"
   ]
  },
  {
   "cell_type": "markdown",
   "metadata": {},
   "source": [
    "## We can learn with a larger number of features\n",
    "- So may have other parameters which contribute towards a prize\n",
    "- e.g. with houses: $(x_1, x_2, x_3, x_4)$\n",
    "  - Size\n",
    "  - Age\n",
    "  - Number bedrooms\n",
    "  - Number floors\n",
    "<br>\n",
    "- Can't really plot in more than 3 dimensions\n",
    "- Best way to get around with this is the notation of *<b><font color=\"#1C3387\">linear algebra</font></b>*\n",
    "  - ($x_1$ = Size in squared feet, $x_2$ = Number of bedrooms, $x_3$ = Number floors, $x_4$ = Age of home)\n",
    "  - $y$ = price in 1000$\n",
    "<img src=\"images/Linear regression with gradient descent - 4.png\">\n",
    "\n",
    "- Need linear algebra for more complex linear regression modles\n",
    "- Linear algebra is good for making computationally efficient models\n",
    "  - Typically vectorization of a problem is a common optimization technique\n",
    "    - GPUs are good at matrix operations"
   ]
  }
 ],
 "metadata": {
  "kernelspec": {
   "display_name": "Python 2",
   "language": "python",
   "name": "python2"
  },
  "language_info": {
   "codemirror_mode": {
    "name": "ipython",
    "version": 2
   },
   "file_extension": ".py",
   "mimetype": "text/x-python",
   "name": "python",
   "nbconvert_exporter": "python",
   "pygments_lexer": "ipython2",
   "version": "2.7.6"
  }
 },
 "nbformat": 4,
 "nbformat_minor": 0
}
