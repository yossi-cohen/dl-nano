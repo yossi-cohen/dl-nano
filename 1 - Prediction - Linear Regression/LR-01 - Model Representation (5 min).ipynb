{
 "cells": [
  {
   "cell_type": "markdown",
   "metadata": {
    "collapsed": false
   },
   "source": [
    "# Model Representation"
   ]
  },
  {
   "cell_type": "markdown",
   "metadata": {},
   "source": [
    "## Notation\n",
    "  - **$m$** = number of training examples\n",
    "  - **$x$**'s = **input** variables (features)\n",
    "  - **$y$**'s = **output** variables (target)\n",
    "  - **$(x,y)$** - single training example\n",
    "  - **$(x^i, y^i)$** - specific example (i<sup>th</sup> training example)\n",
    " "
   ]
  },
  {
   "cell_type": "markdown",
   "metadata": {},
   "source": [
    "## hypothesis\n",
    "With our training set defined - how do we used it?\n",
    "  - Pass into a learning algorithm\n",
    "  - Algorithm outputs a function (denoted $h$: __*<font color=\"blue\">hypothesis</font>*__)\n",
    "    - Takes an input (e.g. size of new house)\n",
    "    - Outputs the estimated value of $Y$\n",
    "\n",
    "<img src=\"images/linear-reg-hypothesis.png\">\n",
    "  - Meaning: <font color=\"blue\" size=\"6em\">we assume that $Y$ is a **linear function** of $x$</font>\n",
    "    - **$\\theta_i$** are called the __*<font color=\"blue\">parameters</font>*__\n",
    "  - Linear regression tries to <font color=\"blue\" size=\"4em\">fit the parameters to the training examples</font>\n",
    "    - <font color=\"blue\">fitting the parameters = learning</font>\n",
    "    - We might have <font color=\"blue\">many features</font> to consider\n",
    "    - <font color=\"blue\" size=\"6em\">$h_\\theta(x) = \\theta_0 + \\theta_1 \\cdot x_1 + \\theta_2 \\cdot x_2 + \\theta_3 \\cdot x_3 +  ...  + \\theta_n \\cdot x_n$</font>"
   ]
  },
  {
   "cell_type": "markdown",
   "metadata": {},
   "source": [
    "## <font color=\"red\">Next: how do we learn (fit the parameters)?...</font>"
   ]
  }
 ],
 "metadata": {
  "kernelspec": {
   "display_name": "Python 2",
   "language": "python",
   "name": "python2"
  },
  "language_info": {
   "codemirror_mode": {
    "name": "ipython",
    "version": 2
   },
   "file_extension": ".py",
   "mimetype": "text/x-python",
   "name": "python",
   "nbconvert_exporter": "python",
   "pygments_lexer": "ipython2",
   "version": "2.7.6"
  }
 },
 "nbformat": 4,
 "nbformat_minor": 0
}
