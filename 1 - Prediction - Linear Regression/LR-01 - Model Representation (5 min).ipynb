{
 "cells": [
  {
   "cell_type": "markdown",
   "metadata": {
    "collapsed": false
   },
   "source": [
    "# Model Representation"
   ]
  },
  {
   "cell_type": "markdown",
   "metadata": {},
   "source": [
    "## Notation\n",
    "  - **<font color=\"blue\">$m$</font>** = number of training examples\n",
    "  - **<font color=\"blue\">$x$'s</font>** = input variables (features)\n",
    "  - **<font color=\"blue\">$y$'s</font>** = output variables (target)\n",
    "  - **<font color=\"blue\">$(x,y)$</font>** - single training example\n",
    "  - **<font color=\"blue\">$(x^i, y^i)$</font>** - i<sup>th</sup> training example\n",
    " "
   ]
  },
  {
   "cell_type": "markdown",
   "metadata": {},
   "source": [
    "## Hypothesis\n",
    "With our training set defined - how do we used it?\n",
    "  - Pass an example $x$ into the learning algorithm\n",
    "  - The algorithm outputs a function \n",
    "    (__*<font color=\"blue\">hypothesis</font>*__) which:\n",
    "    - Input: $x$ (e.g. size of the house)\n",
    "    - Output: the estimated value of $Y$ (price of the house)\n",
    "      <p/>\n",
    "      <font size=\"6em\">$h_θ(x) = θ_0 + θ_1x$</font>\n",
    "      <p/>\n",
    "\n",
    "Meaning: <font color=\"blue\">we assume that $Y$ is a **linear function** of $x$</font>\n",
    "  - **$θ_i$** are called the __*<font color=\"blue\">parameters</font>*__\n",
    "\n",
    "Linear regression tries to <font color=\"blue\">fit the parameters to the training examples</font>\n",
    "  - fitting the parameters = <font color=\"blue\">learning</font>\n",
    "  - We might have <font color=\"blue\"> multiple features</font>\n",
    "    <br/>$h_θ(x) = θ_0 + θ_1x_1 + θ_2x_2 + θ_3x_3 +  ...  + θ_nx_n$\n",
    "\n",
    "<p/>\n",
    "<u>Next</u>: how do we learn (fit the parameters)?"
   ]
  }
 ],
 "metadata": {
  "kernelspec": {
   "display_name": "Python 2",
   "language": "python",
   "name": "python2"
  },
  "language_info": {
   "codemirror_mode": {
    "name": "ipython",
    "version": 2
   },
   "file_extension": ".py",
   "mimetype": "text/x-python",
   "name": "python",
   "nbconvert_exporter": "python",
   "pygments_lexer": "ipython2",
   "version": "2.7.6"
  }
 },
 "nbformat": 4,
 "nbformat_minor": 0
}
