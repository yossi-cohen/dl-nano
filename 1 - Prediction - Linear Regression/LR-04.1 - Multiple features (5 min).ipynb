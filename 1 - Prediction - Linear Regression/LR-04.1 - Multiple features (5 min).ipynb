{
 "cells": [
  {
   "cell_type": "markdown",
   "metadata": {
    "collapsed": false
   },
   "source": [
    "# <font color=\"bordo\">Linear regression with multiple features</font>\n",
    "multiple variables = multiple features"
   ]
  },
  {
   "cell_type": "markdown",
   "metadata": {},
   "source": [
    "- $x_1$, $x_2$, $x_3$, $x_4$ are the four features\n",
    "  - <b><font color=\"blue\">$x_1$</font></b> - Size (feet squared)\n",
    "  - <b><font color=\"blue\">$x_2$</font></b> - Number of bedrooms\n",
    "  - <b><font color=\"blue\">$x_3$</font></b> - Number of floors\n",
    "  - <b><font color=\"blue\">$x_4$</font></b> - Age of home (years)\n",
    "- <b><font color=\"blue\">$y$</font></b> is the output variable (price)"
   ]
  },
  {
   "cell_type": "markdown",
   "metadata": {},
   "source": [
    "<u>More notation</u>:\n",
    "- <b><font color=\"blue\">$n$</font></b>   - number of features $(n = 4)$\n",
    "- <b><font color=\"blue\">$m$</font></b>   - number of examples (i.e. number of rows in a table)\n",
    "- <b><font color=\"blue\">$x^i$</font></b> - a **vector** of the input for an example (so a vector of the four parameters for the $i$<sup>th</sup> input example)"
   ]
  },
  {
   "cell_type": "markdown",
   "metadata": {},
   "source": [
    "<img src=\"images/Linear regression with gradient descent - 4.png\">"
   ]
  },
  {
   "cell_type": "markdown",
   "metadata": {},
   "source": [
    "## What is the form of our hypothesis?\n",
    "$h_θ(x) = θ_0 + θ_1x_1 + θ_2x_2 + θ_3x_3 + θ_4x_4$\n",
    "- For example $h_θ(x) = 80 + 0.1 x_1 + 0.01 x_2 + 3 x_3 + 2 x_4$\n",
    "<br>\n",
    "- Parameters are still determined through a cost function\n",
    "- For convenience of notation, $x_0 = 1$\n",
    "  - $h_θ(x) = θ_0x_0 + θ_1x_1 + θ_2x_2 + θ_3x_3 + θ_4x_4$\n",
    "  - So now your feature vector is $n + 1$ dimensional feature vector indexed from $0$\n",
    "    - This is a column vector called $x$\n",
    "  - Parameters are also in a $0$ indexed $n+1$ dimensional vector\n",
    "    - This is also a column vector called $θ$\n",
    "    - This vector is the same for each example\n",
    "    - **And we can now write:** <font size=\"4em\">$h_θ(x) =θ^TX$</font>"
   ]
  }
 ],
 "metadata": {
  "kernelspec": {
   "display_name": "Python 3",
   "language": "python",
   "name": "python3"
  },
  "language_info": {
   "codemirror_mode": {
    "name": "ipython",
    "version": 3
   },
   "file_extension": ".py",
   "mimetype": "text/x-python",
   "name": "python",
   "nbconvert_exporter": "python",
   "pygments_lexer": "ipython3",
   "version": "3.4.3"
  }
 },
 "nbformat": 4,
 "nbformat_minor": 0
}
