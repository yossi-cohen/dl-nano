{
 "cells": [
  {
   "cell_type": "markdown",
   "metadata": {
    "collapsed": false
   },
   "source": [
    "# Linear regression with multiple features\n",
    "multiple variables = multiple features"
   ]
  },
  {
   "cell_type": "markdown",
   "metadata": {},
   "source": [
    "- $x_1$, $x_2$, $x_3$, $x_4$ are the four features\n",
    "  - <b><font color=\"#1C3387\">$x_1$</font></b> - Size (feet squared)\n",
    "  - <b><font color=\"#1C3387\">$x_2$</font></b> - Number of bedrooms\n",
    "  - <b><font color=\"#1C3387\">$x_3$</font></b> - Number of floors\n",
    "  - <b><font color=\"#1C3387\">$x_4$</font></b> - Age of home (years)\n",
    "- <b><font color=\"#1C3387\">$y$</font></b> is the output variable (price)"
   ]
  },
  {
   "cell_type": "markdown",
   "metadata": {},
   "source": [
    "<u>More notation</u>:\n",
    "- <b><font color=\"#1C3387\">$n$</font></b>   - number of features $(n = 4)$\n",
    "- <b><font color=\"#1C3387\">$m$</font></b>   - number of examples (i.e. number of rows in a table)\n",
    "- <b><font color=\"#1C3387\">$x^i$</font></b> - a **vector** of the input for an example (so a vector of the four parameters for the $i$<sup>th</sup> input example)"
   ]
  },
  {
   "cell_type": "markdown",
   "metadata": {},
   "source": [
    "<img src=\"images/Linear regression with gradient descent - 4.png\">"
   ]
  },
  {
   "cell_type": "markdown",
   "metadata": {},
   "source": [
    "## What is the form of our hypothesis?\n",
    "$h_θ(x) = \\theta_0 + \\theta_1 \\cdot x_1 + \\theta_2 \\cdot x_2 + \\theta_3 \\cdot x_3 + \\theta_4 \\cdot x_4$\n",
    "- For example $h_θ(x) = 80 + 0.1 x_1 + 0.01 x_2 + 3 x_3 + 2 x_4$\n",
    "<br>\n",
    "- Parameters are still determined through a cost function\n",
    "- For convenience of notation, $x_0 = 1$\n",
    "  - $h_θ(x) = \\theta_0 \\cdot x_0 + \\theta_1 \\cdot x_1 + \\theta_2 \\cdot x_2 + \\theta_3 \\cdot x_3 + \\theta_4 \\cdot x_4$\n",
    "  - So now your feature vector is $n + 1$ dimensional feature vector indexed from $0$\n",
    "    - This is a column vector called $x$\n",
    "  - Parameters are also in a $0$ indexed $n+1$ dimensional vector\n",
    "    - This is also a column vector called $\\theta$\n",
    "    - This vector is the same for each example\n",
    "    - **And we can now write:**\n",
    "      <br><font size=\"6em\">$h_\\theta(x) =\\theta^TX$</font>"
   ]
  }
 ],
 "metadata": {
  "kernelspec": {
   "display_name": "Python 2",
   "language": "python",
   "name": "python2"
  },
  "language_info": {
   "codemirror_mode": {
    "name": "ipython",
    "version": 2
   },
   "file_extension": ".py",
   "mimetype": "text/x-python",
   "name": "python",
   "nbconvert_exporter": "python",
   "pygments_lexer": "ipython2",
   "version": "2.7.6"
  }
 },
 "nbformat": 4,
 "nbformat_minor": 0
}
