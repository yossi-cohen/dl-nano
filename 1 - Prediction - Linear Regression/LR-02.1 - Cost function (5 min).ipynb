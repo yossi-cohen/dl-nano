{
 "cells": [
  {
   "cell_type": "markdown",
   "metadata": {
    "collapsed": false
   },
   "source": [
    "# Cost Fuction"
   ]
  },
  {
   "cell_type": "markdown",
   "metadata": {},
   "source": [
    "## We now define something called a *<font color=\"blue\">Cost Function</font>*\n",
    "### A cost function lets us figure out how to fit the best possible hypothesis (straight line) to our data\n",
    "- Choosing values for $θ_i$ *<font color=\"blue\">(different values gives us different functions)</font>*\n",
    "- <font color=\"blue\">Based on our training set</font> we want to generate parameters so \n",
    "  <font color=\"blue\">$h_θ(x)$ is close to $y$ for our training examples</font>\n"
   ]
  },
  {
   "cell_type": "markdown",
   "metadata": {},
   "source": [
    "## In our *linear regression* example we have a training set like so\n",
    "- ### where\n",
    "  - ### <font color=\"blue\">$m$</font> is the number of our training examples and \n",
    "  - ### <font color=\"blue\">$h(x)$</font> is the form of our hypothesis as shown below\n",
    "  - ### <font color=\"blue\">$θ_0$ and $θ_1$</font> are called the parameters of the model\n",
    "\n",
    "<img src=\"images/linear-reg training-set and hypothesis.png\">\n",
    "  \n",
    "### <font color=\"red\">We are going to talk about how to choose these two parameter values</font>"
   ]
  },
  {
   "cell_type": "markdown",
   "metadata": {},
   "source": [
    "## <font color=\"blue\">For different choices of $θ_0$ and $θ_1$ we get different hypothesis</font>\n",
    "<img src=\"images/different hypothesis for different theta values.png\">"
   ]
  },
  {
   "cell_type": "markdown",
   "metadata": {},
   "source": [
    "## <font color=\"blue\">We want to come up with values for $θ_0$ and $θ_1$ so that the straight line of our hypothesis fits the training data</font>\n",
    "### <font color=\"red\">So how do we come up with $θ$ values that corresponds to a good fit to the data?</font>\n",
    "<img src=\"images/cost functiom.png\">"
   ]
  },
  {
   "cell_type": "markdown",
   "metadata": {},
   "source": [
    "### Formalization\n",
    "- We want to solve a minimization problem : **<font color=\"blue\">minimize $( h_θ(x) - y )^2$</font>** \n",
    "  over all training examples\n",
    "- i.e. minimize the difference between $h(x)$ and $y$ for each and every training example\n",
    "- sum (average) this over $m$ training examples:\n",
    "  <img src=\"images/linear-reg-RSS.png\">"
   ]
  },
  {
   "cell_type": "markdown",
   "metadata": {},
   "source": [
    "### Recap\n",
    "- The **Cost Function** $J(θ_0, θ_1)$ is a way to, using your training data, \n",
    "  <br>determine values for $θ$ \n",
    "  <br>which make the *hypothesis* $h(x, θ)$ as accurate as possible.\n",
    "  <img src=\"images/cost-function-J.png\">\n",
    "- This cost function is also called the **<font color=\"blue\">squared error cost function</font>**\n",
    "  or (RSS - Rsedual Sum of Squares)\n",
    "  - This cost function is reasonable choice for most regression functions\n",
    "  - Probably the most commonly used function"
   ]
  },
  {
   "cell_type": "markdown",
   "metadata": {},
   "source": [
    "## <font color=\"red\">Next: Cost function intuition ...</font>"
   ]
  }
 ],
 "metadata": {
  "kernelspec": {
   "display_name": "Python 2",
   "language": "python",
   "name": "python2"
  },
  "language_info": {
   "codemirror_mode": {
    "name": "ipython",
    "version": 2
   },
   "file_extension": ".py",
   "mimetype": "text/x-python",
   "name": "python",
   "nbconvert_exporter": "python",
   "pygments_lexer": "ipython2",
   "version": "2.7.6"
  }
 },
 "nbformat": 4,
 "nbformat_minor": 0
}
