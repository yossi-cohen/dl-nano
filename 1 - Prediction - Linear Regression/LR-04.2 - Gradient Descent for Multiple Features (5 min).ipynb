{
 "cells": [
  {
   "cell_type": "markdown",
   "metadata": {
    "collapsed": false,
    "slideshow": {
     "slide_type": "slide"
    }
   },
   "source": [
    "# Gradient descent for multiple variables"
   ]
  },
  {
   "cell_type": "markdown",
   "metadata": {},
   "source": [
    "## Fitting parameters for the hypothesis with gradient descent\n",
    "- Parameters are $\\theta_0$ to $\\theta_n$\n",
    "- Think of the parameters as a single vector $\\theta$ of dimension $(n+1)$"
   ]
  },
  {
   "cell_type": "markdown",
   "metadata": {},
   "source": [
    "## Our cost function is\n",
    "<img src=\"images/gradient descent with multiple parameters - 1.png\">\n",
    "- $J(\\theta)$ is just a function of the parameter vector"
   ]
  },
  {
   "cell_type": "markdown",
   "metadata": {},
   "source": [
    "## Gradient Descent algorithm\n",
    "<img src=\"images/gradient descent with multiple parameters - 2.png\">\n",
    "\n",
    "### Expanding the derivatives\n",
    "<img src=\"images/gradient descent with multiple parameters - 3.png\">"
   ]
  },
  {
   "cell_type": "markdown",
   "metadata": {},
   "source": [
    "# Feature Scaling\n",
    "- If you have multiple features - you should make sure those features have a similar scale\n",
    "  - This is for the gradient descent to converge more quickly\n",
    "  - e.g.\n",
    "    - $x_1$ = size (0 - 2000 feet)\n",
    "    - $x_2$ = number of bedrooms (1-5)\n",
    "  - Means the contours generated if we plot $\\theta_1$ vs. $\\theta_2$ \n",
    "    give a very tall and thin shape due to the huge range difference\n",
    "  - Running gradient descent on this kind of cost function can take a long time to find the global minimum\n",
    "  <img src=\"images/Feature Scaling - 1.png\">\n",
    "  - Pathological input to gradient descent\n",
    "  - May want to get everything into -1 to +1 range (approximately)\n",
    "  - Can do *<b><font color=\"#1C3387\">mean normalization</font></b>*\n",
    "    - replace each feature $x_i$ - by $(x_i - mean) / max$\n",
    "    <img src=\"images/Feature Scaling - 2.png\">"
   ]
  },
  {
   "cell_type": "markdown",
   "metadata": {},
   "source": [
    "## How we make sure gradient descent is working\n",
    "- e.g., if learning rate α is too large - may fail to converge\n",
    "  <img src=\"images/gd-partial-derivative.png\">\n",
    "- Plot min $J(\\theta)$ vs. (number of iterations)\n",
    "  - should decrease after every iteration\n",
    "<img src=\"images/Learning Rate - 1.png\">\n",
    "- If plot above doesn't decrease - try smaller $\\alpha$\n",
    "- best practice: try a range of $\\alpha$ values (e.g., 0.001, 0.003, 0.01, 0.03. 0.1, 0.3)"
   ]
  },
  {
   "cell_type": "markdown",
   "metadata": {},
   "source": [
    "# Normal Equation\n",
    "- an alternative (fast) way to get parameters without using gradient descent\n",
    "  <img src=\"images/linear equation.png\">\n",
    "- use only for small or modarate data sets\n",
    "  - computing the inverse doesn't scale (e.g., for 1024 x 768 pixel images)"
   ]
  }
 ],
 "metadata": {
  "kernelspec": {
   "display_name": "Python 2",
   "language": "python",
   "name": "python2"
  },
  "language_info": {
   "codemirror_mode": {
    "name": "ipython",
    "version": 2
   },
   "file_extension": ".py",
   "mimetype": "text/x-python",
   "name": "python",
   "nbconvert_exporter": "python",
   "pygments_lexer": "ipython2",
   "version": "2.7.6"
  }
 },
 "nbformat": 4,
 "nbformat_minor": 0
}
