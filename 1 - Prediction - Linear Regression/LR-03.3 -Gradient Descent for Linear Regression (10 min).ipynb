{
 "cells": [
  {
   "cell_type": "markdown",
   "metadata": {
    "collapsed": false
   },
   "source": [
    "# <font color=\"bordo\">Linear regression with gradient descent</font>"
   ]
  },
  {
   "cell_type": "markdown",
   "metadata": {},
   "source": [
    "Apply gradient descent to minimize the squared error cost function $J(θ_0, θ_1)$\n",
    "<br>Now we have a partial derivative \n",
    "<br>Expanding out the first expression $J(θ_0, θ_1)$ we get:\n",
    "<img src=\"images/Linear regression with gradient descent - 1-1.png\">\n",
    "<br>Expanding out the second expression $h_θ(x^{(i)})$ we get:\n",
    "<img src=\"images/Linear regression with gradient descent - 1-2.png\">\n"
   ]
  },
  {
   "cell_type": "markdown",
   "metadata": {},
   "source": [
    "So we need to determine the derivative for each parameter:\n",
    "<img src=\"images/Linear regression with gradient descent - 2.png\">\n",
    "**Notice** that we multiply by the inner derivative $h'_θ(x^{(i)})$\n",
    "<br>$j=0$ : $h'_θ(x^{(i)}) = 1$\n",
    "<br>$j=1$ : $h'_θ(x^{(i)}) = x^{(i)}$"
   ]
  },
  {
   "cell_type": "markdown",
   "metadata": {},
   "source": [
    "Plug these values back into the gradient descent algorithm\n",
    "<img src=\"images/gradient descent algorithm.png\">"
   ]
  },
  {
   "cell_type": "markdown",
   "metadata": {},
   "source": [
    "End up at a global minimum\n",
    " - The linear regression *cost function* is always a *<b><font color=\"blue\">convex function</font></b>* \n",
    "   - Bowl shaped, always has a single (global) minimum\n",
    "<img src=\"images/Linear regression with gradient descent - 3.png\">"
   ]
  },
  {
   "cell_type": "markdown",
   "metadata": {},
   "source": [
    "## We can learn with a larger number of features\n",
    "- So may have other parameters which contribute towards a prize\n",
    "- e.g. with houses: $(x_1, x_2, x_3, x_4)$\n",
    "  - Size\n",
    "  - Age\n",
    "  - Number bedrooms\n",
    "  - Number floors\n",
    "<br>\n",
    "- Can't really plot in more than 3 dimensions\n",
    "- Best way to get around with this is the notation of *<b><font color=\"blue\">linear algebra</font></b>*\n",
    "  - ($x_1$ = Size in squared feet, $x_2$ = Number of bedrooms, $x_3$ = Number floors, $x_4$ = Age of home)\n",
    "  - $y$ = price in 1000\\$\n",
    "  - each row $i$ is an example $(x^{(i)}_1, x^{(i)}_2, x^{(i)}_3, x^{(i)}_4, y^{(i)})$\n",
    "<img src=\"images/Linear regression with gradient descent - 4.png\">\n",
    "\n",
    "- Need linear algebra for more complex linear regression modles\n",
    "- Linear algebra is good for making computationally efficient models\n",
    "  - Typically vectorization of a problem is a common optimization technique\n",
    "  - GPUs are good at matrix operations"
   ]
  }
 ],
 "metadata": {
  "kernelspec": {
   "display_name": "Python 3",
   "language": "python",
   "name": "python3"
  },
  "language_info": {
   "codemirror_mode": {
    "name": "ipython",
    "version": 3
   },
   "file_extension": ".py",
   "mimetype": "text/x-python",
   "name": "python",
   "nbconvert_exporter": "python",
   "pygments_lexer": "ipython3",
   "version": "3.4.3"
  }
 },
 "nbformat": 4,
 "nbformat_minor": 0
}
