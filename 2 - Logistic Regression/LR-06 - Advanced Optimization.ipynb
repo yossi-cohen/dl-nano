{
 "cells": [
  {
   "cell_type": "markdown",
   "metadata": {},
   "source": [
    "# <font color=\"bordo\">Logistics Regression - Advanced optimization</font>\n",
    "- Here look at advanced concepts for minimizing the cost function for logistic regression\n",
    "- Good for large machine learning problems (e.g. huge feature set)"
   ]
  },
  {
   "cell_type": "markdown",
   "metadata": {},
   "source": [
    "## What is gradient descent actually doing?\n",
    "- We have some cost function $J(θ)$, and we want to minimize it\n",
    "  - We need to write code which takes $θ$ as input and compute:\n",
    "    - $J(θ)$\n",
    "    - Partial derivative of $J(θ)$ with respect to $θ_j$ (where $j=0 ... n$)\n",
    "    - ### write code which computes:\n",
    "      <img src=\"images/Advanced Optimization - 1.png\">\n",
    "    - Given code that can do these two things\n",
    "      - Gradient descent repeatedly does the following update\n",
    "      <img src=\"images/Advanced Optimization - 2.png\">\n",
    "      - Until convergance"
   ]
  },
  {
   "cell_type": "markdown",
   "metadata": {},
   "source": [
    "## Alternatively\n",
    "instead of gradient descent to minimize the cost function \n",
    "## we could use\n",
    "- **<font color=\"blue\">Conjugate gradient</font>**\n",
    "- **<font color=\"blue\">BFGS</font>** (Broyden-Fletcher-Goldfarb-Shanno)\n",
    "- **<font color=\"blue\">L-BFGS</font>** (Limited memory - BFGS)\n",
    "### These are more optimized algorithms which take that same input and minimize the cost function\n",
    "- These are very complicated algorithms\n",
    "- **Advantages**\n",
    "  - No need to manually pick alpha (learning rate)\n",
    "    - Has a clever inner loop (line search algorithm) which tries a bunch of alpha values and picks a good one\n",
    "  - Often faster than gradient descent\n",
    "  - Can be used successfully without understanding their complexity\n",
    "- **Disadvantages**\n",
    "  - Could make debugging more difficult\n",
    "  - Should not be implemented themselves\n",
    "  - Different libraries may use different implementations - may hit performance"
   ]
  }
 ],
 "metadata": {
  "kernelspec": {
   "display_name": "Python 2",
   "language": "python",
   "name": "python2"
  },
  "language_info": {
   "codemirror_mode": {
    "name": "ipython",
    "version": 2
   },
   "file_extension": ".py",
   "mimetype": "text/x-python",
   "name": "python",
   "nbconvert_exporter": "python",
   "pygments_lexer": "ipython2",
   "version": "2.7.6"
  }
 },
 "nbformat": 4,
 "nbformat_minor": 0
}
