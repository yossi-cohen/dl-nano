{
 "cells": [
  {
   "cell_type": "markdown",
   "metadata": {
    "collapsed": true
   },
   "source": [
    "# <font color=\"bordo\">GD in Practice - Learning Rate</font>\n",
    "## Making gradient descent converge more quickly"
   ]
  },
  {
   "cell_type": "markdown",
   "metadata": {},
   "source": [
    "## How do we make sure gradient descent is working\n",
    "- e.g., if learning rate α is too large - may fail to converge\n",
    "  <img src=\"images/gd-partial-derivative.png\">\n",
    "- Plot min $J(θ)$ vs. {No. of iterations}\n",
    "  - should decrease after **every** iteration\n",
    "  - If plot above doesn't decrease - **try smaller $α$**\n",
    "<img src=\"images/Learning Rate - 1.png\">\n",
    "\n",
    "<img src=\"images/Learning Rate - 2.png\">\n",
    "\n",
    "## Summary\n",
    "- If $α$ is too small -> slow convergence\n",
    "- If $α$ is too large -> $J(θ)$ may fail to converge (doesn`t decrease after **every** iteration)\n",
    "- Best practice: try a range of $α$ values (e.g., 0.001, 0.003, 0.01, 0.03. 0.1, 0.3)"
   ]
  }
 ],
 "metadata": {
  "kernelspec": {
   "display_name": "Python 2",
   "language": "python",
   "name": "python2"
  },
  "language_info": {
   "codemirror_mode": {
    "name": "ipython",
    "version": 2
   },
   "file_extension": ".py",
   "mimetype": "text/x-python",
   "name": "python",
   "nbconvert_exporter": "python",
   "pygments_lexer": "ipython2",
   "version": "2.7.6"
  }
 },
 "nbformat": 4,
 "nbformat_minor": 0
}
