{
 "cells": [
  {
   "cell_type": "markdown",
   "metadata": {
    "collapsed": false
   },
   "source": [
    "# <font color=\"bordo\">Cost Fuction - fitting model parameters</font>"
   ]
  },
  {
   "cell_type": "markdown",
   "metadata": {},
   "source": [
    "## In our *linear regression* example we have a training set where:\n",
    "  - <font color=\"blue\">$m$</font> - number of our training examples \n",
    "  - <font color=\"blue\">$h(x)$</font> - our hypothesis\n",
    "  - <font color=\"blue\">$θ_0$ and $θ_1$</font> - parameters of the model\n",
    "\n",
    "<img src=\"images/linear-reg training-set and hypothesis.png\">"
   ]
  },
  {
   "cell_type": "markdown",
   "metadata": {},
   "source": [
    "## For different choices of $θ_0$ and $θ_1$ we get different hypothesis\n",
    "<img src=\"images/different hypothesis for different theta values.png\">"
   ]
  },
  {
   "cell_type": "markdown",
   "metadata": {},
   "source": [
    "## We want to come up with values for $θ_0$ and $θ_1$ such that the straight line of our hypothesis fits the training data\n",
    "<img src=\"images/cost functiom.png\">"
   ]
  },
  {
   "cell_type": "markdown",
   "metadata": {},
   "source": [
    "## Formalization\n",
    "- We want to solve a minimization problem : **<font color=\"blue\">minimize $( h_θ(x) - y )^2$</font>** \n",
    "  over all training examples\n",
    "  - i.e. minimize the difference between $h(x)$ and $y$ for each and every training example\n",
    "  - sum (average) this over $m$ training examples:\n",
    "    <img src=\"images/linear-reg-RSS.png\">"
   ]
  },
  {
   "cell_type": "markdown",
   "metadata": {},
   "source": [
    "## Recap\n",
    "- The **Cost Function** $J(θ_0, θ_1)$ is a way to (using your training data) determine values for $θ$ \n",
    "  <br>which make the *hypothesis* $h(x, θ)$ as accurate as possible.\n",
    "  <img src=\"images/cost-function-J.png\">\n",
    "- This cost function is also called the **<font color=\"blue\">squared error cost function</font>**\n",
    "  (or RSS - Rsedual Sum of Squares)\n",
    "  - This cost function is reasonable choice for most regression functions\n",
    "  - Probably the most commonly used function"
   ]
  },
  {
   "cell_type": "markdown",
   "metadata": {},
   "source": [
    "<u>Next:</u> Cost function intuition ..."
   ]
  }
 ],
 "metadata": {
  "kernelspec": {
   "display_name": "Python 2",
   "language": "python",
   "name": "python2"
  },
  "language_info": {
   "codemirror_mode": {
    "name": "ipython",
    "version": 2
   },
   "file_extension": ".py",
   "mimetype": "text/x-python",
   "name": "python",
   "nbconvert_exporter": "python",
   "pygments_lexer": "ipython2",
   "version": "2.7.6"
  }
 },
 "nbformat": 4,
 "nbformat_minor": 0
}
