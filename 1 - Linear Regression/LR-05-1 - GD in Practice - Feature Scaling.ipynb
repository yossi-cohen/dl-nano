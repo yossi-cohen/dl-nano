{
 "cells": [
  {
   "cell_type": "markdown",
   "metadata": {
    "collapsed": true
   },
   "source": [
    "# <font color=\"bordo\">GD in Practice - Feature Scaling</font>\n",
    "## Making gradient descent converge more quickly"
   ]
  },
  {
   "cell_type": "markdown",
   "metadata": {},
   "source": [
    "- If you have multiple features - you should make sure those features have a similar scale\n",
    "  - This is for the gradient descent to converge more quickly\n",
    "  - e.g.\n",
    "    - $x_1$ = size (0 - 2000 feet)\n",
    "    - $x_2$ = number of bedrooms (1-5)\n",
    "  - Means the contours generated if we plot $θ_1$ vs. $θ_2$ \n",
    "    give a very tall and thin shape due to the huge range difference\n",
    "  - Running gradient descent on this kind of cost function can take a long time to find the global minimum\n",
    "  <img src=\"images/Feature Scaling - 1.png\">\n",
    "  - Pathological input to gradient descent\n",
    "  - May want to get everything into -1 to +1 range (approximately)\n",
    "  - Can do *<b><font color=\"blue\">mean normalization</font></b>*\n",
    "    - replace each feature <font size=\"4em\">$x_i$</font> by <font size=\"5em\">$\\frac{x_i - mean}{max}$</font>\n",
    "    <img src=\"images/Feature Scaling - 2.png\">"
   ]
  }
 ],
 "metadata": {
  "kernelspec": {
   "display_name": "Python 2",
   "language": "python",
   "name": "python2"
  },
  "language_info": {
   "codemirror_mode": {
    "name": "ipython",
    "version": 2
   },
   "file_extension": ".py",
   "mimetype": "text/x-python",
   "name": "python",
   "nbconvert_exporter": "python",
   "pygments_lexer": "ipython2",
   "version": "2.7.6"
  }
 },
 "nbformat": 4,
 "nbformat_minor": 0
}
