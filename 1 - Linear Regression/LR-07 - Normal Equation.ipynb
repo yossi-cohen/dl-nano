{
 "cells": [
  {
   "cell_type": "markdown",
   "metadata": {
    "collapsed": true
   },
   "source": [
    "# <font color=\"bordo\">Normal Equation</font>"
   ]
  },
  {
   "cell_type": "markdown",
   "metadata": {},
   "source": [
    "- An (fast) alternative to get parameters without using gradient descent\n",
    "  <img src=\"images/normal equation.png\">\n",
    "- Use only for small or modarate data sets\n",
    "  - Computing the inverse doesn't scale (e.g., for 1024 x 768 pixel images)"
   ]
  },
  {
   "cell_type": "markdown",
   "metadata": {},
   "source": [
    "<img src=\"images/normal equation - 1.png\" />\n",
    "## Intuition: solve for θ automatically\n",
    "<img src=\"images/normal equation - 2.png\" />\n",
    "## And in the general case\n",
    "<img src=\"images/normal equation - 3.png\" />\n",
    "<img src=\"images/normal equation - 4.png\" />\n",
    "<img src=\"images/normal equation - 5.png\" />"
   ]
  }
 ],
 "metadata": {
  "kernelspec": {
   "display_name": "Python 2",
   "language": "python",
   "name": "python2"
  },
  "language_info": {
   "codemirror_mode": {
    "name": "ipython",
    "version": 2
   },
   "file_extension": ".py",
   "mimetype": "text/x-python",
   "name": "python",
   "nbconvert_exporter": "python",
   "pygments_lexer": "ipython2",
   "version": "2.7.6"
  }
 },
 "nbformat": 4,
 "nbformat_minor": 0
}
