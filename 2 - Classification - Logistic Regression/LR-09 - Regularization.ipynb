{
 "cells": [
  {
   "cell_type": "markdown",
   "metadata": {},
   "source": [
    "# <font color=\"bordo\">Regularization</font>"
   ]
  },
  {
   "cell_type": "markdown",
   "metadata": {},
   "source": [
    "## Result of regularization\n",
    "\n",
    "Reducing the magnitude of the parameters $θ$ gives us simpler hypothesis (smoother curve)\n",
    "  - Effectively get rid of some of the terms\n",
    "  - A simpler hypothesis is less prone to overfitting"
   ]
  },
  {
   "cell_type": "markdown",
   "metadata": {},
   "source": [
    "## Cost function optimization with regularization\n",
    "\n",
    "### Penalize and make some of the $θ$ parameters really small\n",
    "e.g. modify our cost function to penalize large $θ_3$ and $θ_4$\n",
    "<img src=\"images/regularization - 1.png\">\n",
    "\n",
    "### Here we end up with $θ_3$ and $θ_4$ being close to zero\n",
    "so we're basically left with a quadratic function: <font size=\"3em\">$θ_0 + θ_1x + θ_2x^2$</font>\n",
    "<img src=\"images/regularization - 2.png\">\n",
    "\n",
    "### In general we penalized ALL our parameters\n",
    "<img src=\"images/regularization - 3.png\">\n",
    "  - By convention you don't penalize $θ_0$ - minimization is from $θ_1$ onwards\n",
    "  - *<font color=\"blue\" size=\"3em\">$λ$</font>* is the *<font color=\"blue\">regularization parameter</font>*\n",
    "    - Controls a trade off between our two goals:\n",
    "      - Fit the training set well\n",
    "      - Keep parameters small\n",
    "\n",
    "### How to choose λ\n",
    "- <font color=\"red\">If λ is very large</font> we end up penalizing ALL the parameters (θ1, θ2 etc.) \n",
    "  <br>so all the parameters end up being close to zero\n",
    "  <br>If this happens, it's like we got rid of all the terms in the hypothesis\n",
    "  <br>This results here is then <font color=\"red\">underfitting</font>\n",
    "  <br>So this hypothesis is too <font color=\"red\">biased</font> because of the absence of any parameters (effectively)\n",
    "<p>\n",
    "- So, λ should be chosen carefully - not too big\n",
    "  <br>We look at some automatic ways to select λ later..."
   ]
  },
  {
   "cell_type": "markdown",
   "metadata": {},
   "source": [
    "### <font color=\"bordo\">Cost Function with Regularization for Linear Regression</font>\n",
    "<img src=\"images/regularization - LR - 1.png\">\n",
    "<p>\n",
    "- Previously, Gradient Descent would repeatedly update the parameters $θ_j$, where j = 0,1,2...n simultaneously\n",
    "<img src=\"images/regularization - LR - 2.png\" />\n",
    "<p>\n",
    "- Lets write the case for $θ_0$ separately\n",
    "<img src=\"images/regularization - LR - 3.png\" />\n",
    "<p>\n",
    "- To modify this algorithm to use the regularized objective:\n",
    "  - Use the first term for $θ_0$ (we don't penalize $θ_0$)\n",
    "  - Modify the second term as follows:\n",
    "<img src=\"images/regularization - LR - 4.png\" />\n",
    "  - The pink-colored term is <font size=\"4em\">$\\frac{\\partial}{\\partial \\theta_j}J(\\theta)$</font> \n",
    "    for the regularized $J(\\theta)$\n",
    "\n",
    "### Note\n",
    "If you group all the terms that depend on $\\theta_j$ we get an equivalent to the second term above as follows:\n",
    "  - Note that the second term is exactly the same as the original gradient descent update for $(j = 1,2,...,n)$\n",
    "    <img src=\"images/regularization - LR - 5.png\" />\n",
    "  - The term <font size=\"4em\">$\\left(1 - \\alpha\\frac{\\lambda}{m}\\right)$</font> is going to be a number less than 1 \n",
    "    <br>usually learning rate is small and m is large so this typically evaluates to (1 - a small number)\n",
    "    often around 0.99 to 0.95"
   ]
  },
  {
   "cell_type": "markdown",
   "metadata": {},
   "source": [
    "### <font color=\"bordo\">Cost Function with Regularization for Logistic Regression</font>\n",
    "\n",
    "We saw earlier that logistic regression can be prone to overfitting with lots of features\n",
    "<p>\n",
    "- Original Logistic Regression Cost Function:\n",
    "  <img src=\"images/regularization - LR - 6.png\" />\n",
    "<p>\n",
    "- To modify it we have to add an extra term\n",
    "  <img src=\"images/regularization - LR - 7.png\" />\n",
    "<p>\n",
    "- Like in Linear Regression, this has the effect of penalizing the parameters $θ_1$, $θ_2$ up to $θ_n$\n",
    "<p>\n",
    "- The $θ$ update rule is the same as in Linear Regression (except the hypothesis is different)"
   ]
  }
 ],
 "metadata": {
  "kernelspec": {
   "display_name": "Python 2",
   "language": "python",
   "name": "python2"
  },
  "language_info": {
   "codemirror_mode": {
    "name": "ipython",
    "version": 2
   },
   "file_extension": ".py",
   "mimetype": "text/x-python",
   "name": "python",
   "nbconvert_exporter": "python",
   "pygments_lexer": "ipython2",
   "version": "2.7.6"
  }
 },
 "nbformat": 4,
 "nbformat_minor": 0
}
