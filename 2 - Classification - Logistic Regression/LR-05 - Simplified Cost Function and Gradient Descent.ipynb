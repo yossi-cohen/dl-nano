{
 "cells": [
  {
   "cell_type": "markdown",
   "metadata": {},
   "source": [
    "# Logistics Regression - simplified Cost Function\n",
    " - Define a simpler way to write the cost function and apply gradient descent to the logistic regression"
   ]
  },
  {
   "cell_type": "markdown",
   "metadata": {},
   "source": [
    "<img src=\"images/Simplified Cost Function - 1.png\">"
   ]
  },
  {
   "cell_type": "markdown",
   "metadata": {
    "collapsed": true
   },
   "source": [
    "# Writing this const function in a single line:\n",
    "- For binary classification problems $y$ is always 0 or 1\n",
    "  - Because of this, we can have a simpler way to write the cost function:\n",
    "    - When $y = 1$ the second term cancels, so we are left with <font color=\"#1C3387\">$-log(h_θ(x)$</font>\n",
    "    - When $y = 0$ the first term cancels, and we are left with <font color=\"#1C3387\">$-log(1 - h_θ(x)$</font>\n",
    "  - Just as defined above, Clever!\n",
    "\n",
    "<img src=\"images/Simplified Cost Function - 2.png\">"
   ]
  },
  {
   "cell_type": "markdown",
   "metadata": {},
   "source": [
    "# Fitting the parameters $θ$ and making predictions:\n",
    "<img src=\"images/Simplified Cost Function - 3.png\">\n",
    "- Because $0 <= h_θ(x) <= 1$, we can interpret $h_θ(x)$ as the probability \n",
    "  of $y = 1$, given x, parameterized by $θ$"
   ]
  },
  {
   "cell_type": "markdown",
   "metadata": {},
   "source": [
    "# How to minimize the logistic regression cost function\n",
    "# Well, we go back to\n",
    "<img src=\"images/Gradient Descent - 1.png\">\n",
    "- Repeatedly update each parameter using a learning rate\n",
    "- In **<font color=\"#1C3387\">blue</font>** we can see the expansion of the derivative for the cost function"
   ]
  },
  {
   "cell_type": "markdown",
   "metadata": {},
   "source": [
    "# To recap:\n",
    "- This equation is the same as the linear regression rule\n",
    "- The only difference is that our definition for the hypothesis has changed\n",
    "<img src=\"images/Gradient Descent - 2.png\">\n",
    "- ### When implementing logistic regression with gradient descent, we can use a vectorized implementation\n",
    "- ### Feature scaling for gradient descent for logistic regression also applies here"
   ]
  }
 ],
 "metadata": {
  "kernelspec": {
   "display_name": "Python 2",
   "language": "python",
   "name": "python2"
  },
  "language_info": {
   "codemirror_mode": {
    "name": "ipython",
    "version": 2
   },
   "file_extension": ".py",
   "mimetype": "text/x-python",
   "name": "python",
   "nbconvert_exporter": "python",
   "pygments_lexer": "ipython2",
   "version": "2.7.6"
  }
 },
 "nbformat": 4,
 "nbformat_minor": 0
}
