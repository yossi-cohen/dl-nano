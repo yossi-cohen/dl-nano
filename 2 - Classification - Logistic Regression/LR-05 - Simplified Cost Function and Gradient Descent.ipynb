{
 "cells": [
  {
   "cell_type": "markdown",
   "metadata": {},
   "source": [
    "# <font color=\"bordo\">Logistics Regression - simplified Cost Function</font>"
   ]
  },
  {
   "cell_type": "markdown",
   "metadata": {},
   "source": [
    "### Define a simpler way to write the cost function and apply gradient descent to the logistic regression\n",
    "<img src=\"images/Simplified Cost Function - 1.png\">\n",
    "### Writing this const function in a single line:\n",
    "<img src=\"images/Simplified Cost Function - 2.png\">\n",
    "- For binary classification problems $y$ is always 0 or 1\n",
    "- Because of this, we can have a simpler way to write the cost function:\n",
    "  - When $y = 1$ the second term cancels, so we are left with <font color=\"#1C3387\">$-log(h_θ(x))$</font>\n",
    "  - When $y = 0$ the first term cancels, and we are left with <font color=\"#1C3387\">$-log(1 - h_θ(x))$</font>\n",
    "- Just as defined above, Clever!"
   ]
  },
  {
   "cell_type": "markdown",
   "metadata": {},
   "source": [
    "# Fitting the parameters $θ$ and making predictions:\n",
    "<img src=\"images/Simplified Cost Function - 3.png\">\n",
    "- Because $0 <= h_θ(x) <= 1$, we can interpret $h_θ(x)$ as the probability \n",
    "  of $y = 1$, given x, parameterized by $θ$"
   ]
  },
  {
   "cell_type": "markdown",
   "metadata": {},
   "source": [
    "## How to minimize the logistic regression cost function\n",
    "## Go back to\n",
    "<img src=\"images/Gradient Descent - 1.png\">\n",
    "- Repeatedly update each parameter using a learning rate\n",
    "- In **<font color=\"blue\">blue</font>** we can see the expansion of the derivative for the cost function\n",
    "\n",
    "## Expansion of the derivative for the cost function\n",
    "### First Term\n",
    "<p>\n",
    "<font size=\"5em\">$-\\frac{1}{m}\\sum_{i=1}^m\\frac{d}{dθ_j}y^{(i)}log(h_θ(x^{(i)}))$</font>\n",
    "<p>\n",
    "<br>Expanding $h_θ(x)$ we get:&nbsp;\n",
    "<p>\n",
    "<br><font size=\"5em\">$= -\\frac{1}{m}\\sum_{i=1}^m\\frac{d}{dθ_j}y^{(i)}log(\\frac{1}{1+e^{-θ^Tx}})$</font>\n",
    "<p>\n",
    "<br>From calculus we know that:&nbsp;\n",
    "<font size=\"4em\">$log(\\frac{1}{z}) = -log(z)$</font>\n",
    "and\n",
    "<font size=\"4em\">$\\frac{d}{dz}log(z)=\\frac{1}{z}$</font>\n",
    "and\n",
    "<font size=\"4em\">$\\frac{d}{dz}e^z=e^z$</font>\n",
    "<p>\n",
    "<br><font size=\"5em\">$= -\\frac{1}{m}\\sum_{i=1}^m y^{(i)} \\cdot \\frac{d}{dθ_j}(-log(1+e^{-θ^Tx}))$</font>\n",
    "<p>\n",
    "<br>Using the chain rule, we get:\n",
    "<p>\n",
    "<br><font size=\"5em\">$= \\frac{1}{m}\\sum_{i=1}^m{y^{(i)}\\frac{1}{1+e^{-θ^Tx}} \\cdot e^{-θ^Tx} \\cdot (-x_j)}$</font>\n",
    "<p>\n",
    "<br><font size=\"5em\">$= -\\frac{1}{m}\\sum_{i=1}^m{y^{(i)}h_θ(x^{(i)}) \\cdot e^{-θ^Tx} \\cdot x_j}$</font>\n",
    "\n",
    "\n",
    "### Second Term"
   ]
  },
  {
   "cell_type": "markdown",
   "metadata": {},
   "source": [
    "# To recap:\n",
    "- This equation is the same as the linear regression rule\n",
    "- The only difference is that our definition for the hypothesis has changed\n",
    "<img src=\"images/Gradient Descent - 2.png\">\n",
    "- ### When implementing logistic regression with gradient descent, we can use a vectorized implementation\n",
    "- ### Feature scaling for gradient descent for logistic regression also applies here"
   ]
  }
 ],
 "metadata": {
  "kernelspec": {
   "display_name": "Python 2",
   "language": "python",
   "name": "python2"
  },
  "language_info": {
   "codemirror_mode": {
    "name": "ipython",
    "version": 2
   },
   "file_extension": ".py",
   "mimetype": "text/x-python",
   "name": "python",
   "nbconvert_exporter": "python",
   "pygments_lexer": "ipython2",
   "version": "2.7.6"
  }
 },
 "nbformat": 4,
 "nbformat_minor": 0
}
