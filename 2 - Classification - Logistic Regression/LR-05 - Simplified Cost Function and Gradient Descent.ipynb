{
 "cells": [
  {
   "cell_type": "markdown",
   "metadata": {},
   "source": [
    "# <font color=\"bordo\">Logistics Regression - simplified Cost Function</font>"
   ]
  },
  {
   "cell_type": "markdown",
   "metadata": {},
   "source": [
    "### Define a simpler way to write the cost function and apply gradient descent to the logistic regression\n",
    "<img src=\"images/Simplified Cost Function - 1.png\">\n",
    "### Writing this cost function in a single line:\n",
    "<img src=\"images/Simplified Cost Function - 2.png\">\n",
    "- For binary classification problems $y$ is always 0 or 1\n",
    "- Because of this, we can have a simpler way to write the cost function:\n",
    "  - When $y = 1$ the second term cancels, so we are left with <font color=\"#1C3387\">$-log(h_θ(x))$</font>\n",
    "  - When $y = 0$ the first term cancels, and we are left with <font color=\"#1C3387\">$-log(1 - h_θ(x))$</font>\n",
    "- Just as defined above, Clever!"
   ]
  },
  {
   "cell_type": "markdown",
   "metadata": {},
   "source": [
    "### We want to find the parameters $\\theta$ that minimize $J(\\theta)$\n",
    "<p>\n",
    "<img src=\"images/cost function fitting the parameters and making prediction.png\" />"
   ]
  },
  {
   "cell_type": "markdown",
   "metadata": {},
   "source": [
    "### How to minimize the logistic regression cost function?\n",
    "<img src=\"images/cost function - gradient descent.png\">\n",
    "<p><font color=\"gray\">(details of derivative expansion is aside - in the next slide)</font>"
   ]
  },
  {
   "cell_type": "markdown",
   "metadata": {},
   "source": [
    "## Recap:\n",
    "- This equation is the same as the linear regression rule\n",
    "- The only difference is that our definition for the hypothesis has changed\n",
    "\n",
    "<img src=\"images/Gradient Descent - 2.png\">\n",
    "\n",
    "- When implementing logistic regression with gradient descent, we can use a vectorized implementation\n",
    "- Feature scaling for gradient descent for logistic regression also applies here"
   ]
  }
 ],
 "metadata": {
  "kernelspec": {
   "display_name": "Python 2",
   "language": "python",
   "name": "python2"
  },
  "language_info": {
   "codemirror_mode": {
    "name": "ipython",
    "version": 2
   },
   "file_extension": ".py",
   "mimetype": "text/x-python",
   "name": "python",
   "nbconvert_exporter": "python",
   "pygments_lexer": "ipython2",
   "version": "2.7.6"
  }
 },
 "nbformat": 4,
 "nbformat_minor": 0
}
