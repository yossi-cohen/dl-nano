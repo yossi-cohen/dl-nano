{
 "cells": [
  {
   "cell_type": "markdown",
   "metadata": {},
   "source": [
    "# Logistics Regression - Hypothesis Representation"
   ]
  },
  {
   "cell_type": "markdown",
   "metadata": {},
   "source": [
    "- We want our classifier to output values between 0 and 1\n",
    "- When using linear regression we did $h_θ(x) = (θ^T x)$\n",
    "<br>\n",
    "<img src=\"images/Logistics Regression Model.png\">    "
   ]
  },
  {
   "cell_type": "markdown",
   "metadata": {},
   "source": [
    "# Interpretation of hypothesis output\n",
    "<p>\n",
    "<font color=\"#E30000\">When our hypothesis $(h_θ(x))$ outputs a number, we treat that value as the estimated probability that $y=1$ on input $x$</font>\n",
    "<img src=\"images/Interpretation of hypothesis - 1.png\">\n",
    "<img src=\"images/Interpretation of hypothesis - 3.png\">\n",
    "<img src=\"images/Interpretation of hypothesis - example.png\">\n"
   ]
  }
 ],
 "metadata": {
  "kernelspec": {
   "display_name": "Python 2",
   "language": "python",
   "name": "python2"
  },
  "language_info": {
   "codemirror_mode": {
    "name": "ipython",
    "version": 2
   },
   "file_extension": ".py",
   "mimetype": "text/x-python",
   "name": "python",
   "nbconvert_exporter": "python",
   "pygments_lexer": "ipython2",
   "version": "2.7.6"
  }
 },
 "nbformat": 4,
 "nbformat_minor": 0
}
