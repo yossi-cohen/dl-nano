{
 "cells": [
  {
   "cell_type": "markdown",
   "metadata": {},
   "source": [
    "# <font color=\"bordo\">Logistics Regression - Hypothesis Representation</font>"
   ]
  },
  {
   "cell_type": "markdown",
   "metadata": {},
   "source": [
    "- ### Recap: Linear Regression Model: $h_θ(x) = (θ^T x)$\n",
    "- ### We want our classifier to output values between 0 and 1\n",
    "<img src=\"images/Logistics Regression Model.png\">    "
   ]
  },
  {
   "cell_type": "markdown",
   "metadata": {},
   "source": [
    "# <font color=\"bordo\">Interpretation of hypothesis output</font>\n",
    "\n",
    "<img src=\"images/Interpretation of hypothesis - 1.png\">\n",
    "<img src=\"images/Interpretation of hypothesis - 3.png\">\n",
    "<img src=\"images/Interpretation of hypothesis - example.png\">\n"
   ]
  }
 ],
 "metadata": {
  "kernelspec": {
   "display_name": "Python 2",
   "language": "python",
   "name": "python2"
  },
  "language_info": {
   "codemirror_mode": {
    "name": "ipython",
    "version": 2
   },
   "file_extension": ".py",
   "mimetype": "text/x-python",
   "name": "python",
   "nbconvert_exporter": "python",
   "pygments_lexer": "ipython2",
   "version": "2.7.6"
  }
 },
 "nbformat": 4,
 "nbformat_minor": 0
}
