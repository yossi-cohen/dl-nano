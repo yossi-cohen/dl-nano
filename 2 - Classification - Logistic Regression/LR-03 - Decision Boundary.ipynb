{
 "cells": [
  {
   "cell_type": "markdown",
   "metadata": {},
   "source": [
    "# Decision Boundary\n",
    "- Gives a better sense of what the hypothesis function is computing \n",
    "  <br>and what the hypothesis function looks like"
   ]
  },
  {
   "cell_type": "markdown",
   "metadata": {},
   "source": [
    "<img src=\"images/Decision Boundary - 0.png\">\n",
    "- When is it exactly that $h_θ(x)$ is greater than $0.5$?\n",
    "  - Looking at sigmoid function\n",
    "  - <font color=\"#E30000\">$g(z)$ is greater than or equal to $0.5$ when $z$ is greater than or equal to $0$</font>\n",
    "  - So the hypothesis predicts <font color=\"#E30000\">$y = 1$ when $θ^T x >= 0$</font>\n",
    "    - and when $θ^T x < 0$ then the hypothesis predicts $y = 0$"
   ]
  },
  {
   "cell_type": "markdown",
   "metadata": {},
   "source": [
    "## Example\n",
    "<img src=\"images/Decision Boundary - 2.png\">\n",
    "- So, for example\n",
    "  - $θ_0 = -3$\n",
    "  - $θ_1 = 1$\n",
    "  - $θ_2 = 1$\n",
    "- $θ^T$ is a row vector = $[-3,1,1]$\n",
    "- We predict \"$y = 1$\" if $θ^Tx >= 0$\n",
    "  - i.e., $-3 + x_1 + x_2 >= 0$\n",
    "- We can also re-write this as\n",
    "  - If $(x_1 + x_2 >= 3)$ then we predict $y = 1$\n",
    "  <img src=\"images/Decision Boundary - 3.png\">"
   ]
  },
  {
   "cell_type": "markdown",
   "metadata": {},
   "source": [
    "## Non-linear decision boundaries\n",
    "- Get logistic regression to fit a complex non-linear data set\n",
    "  - Like polynomial regress add higher order terms\n",
    "  - So say we have\n",
    "    - $h_θ(x) = g(θ_0 + θ_1x_1 + θ_2x_2 + θ_3x_1^2 + θ_4x_2^2)$\n",
    "    - Say $θ^T$ was $[-1,0,0,1,1]$ then we say:\n",
    "      - Predict that \"$y = 1$\" if\n",
    "      - $-1 + x_1^2 + x_2^2 >= 0$\n",
    "      - or: $x_1^2 + x_2^2 >= 1$\n",
    "      - Plotting $x_1^2 + x_2^2 >= 1$ gives us a circle with a radius of 1 around 0\n",
    "        <img src=\"images/Decision Boundary - 4.png\">\n",
    "      "
   ]
  },
  {
   "cell_type": "code",
   "execution_count": null,
   "metadata": {
    "collapsed": true
   },
   "outputs": [],
   "source": []
  }
 ],
 "metadata": {
  "kernelspec": {
   "display_name": "Python 2",
   "language": "python",
   "name": "python2"
  },
  "language_info": {
   "codemirror_mode": {
    "name": "ipython",
    "version": 2
   },
   "file_extension": ".py",
   "mimetype": "text/x-python",
   "name": "python",
   "nbconvert_exporter": "python",
   "pygments_lexer": "ipython2",
   "version": "2.7.6"
  }
 },
 "nbformat": 4,
 "nbformat_minor": 0
}
