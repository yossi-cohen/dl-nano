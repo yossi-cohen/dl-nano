{
 "cells": [
  {
   "cell_type": "markdown",
   "metadata": {},
   "source": [
    "# <font color=\"bordo\">Classification</font>\n",
    "- The output $y$ is a discrete value\n",
    "- Develop an algorithm to determine what class a new input should fall into"
   ]
  },
  {
   "cell_type": "markdown",
   "metadata": {},
   "source": [
    "### Classification examples\n",
    "<img src=\"images/Classification examples.png\" />\n",
    "\n",
    "### Start with binary class problems\n",
    "- $y$ is either $0$ or $1$\n",
    "- Later look at multiclass classification problem, although this is just an extension of binary classification\n",
    "<img src=\"images/Classification - 2.png\">"
   ]
  },
  {
   "cell_type": "markdown",
   "metadata": {},
   "source": [
    "## Example\n",
    "Tumour size vs. malignancy (0 or 1)\n",
    "<br>\n",
    "- We could try using linear regression\n",
    "  - Then threshold the classifier output (i.e. anything over some value is yes, else no)\n",
    "  - In our example below linear regression with thresholding seems to work\n",
    "  <img src=\"images/Classification - 1.png\">\n",
    "  \n",
    "- We can see above this does a reasonable job of stratifying the data points into one of two classes\n",
    "  <img src=\"images/Classification - 3.png\">\n",
    "\n",
    "### Anomaly: linear regression is not accurate with outliers\n",
    "- But what if we had a single Yes with a very large tumour?\n",
    "  - This would lead to classifying all the existing *yes*-es as *no*-s\n",
    "  <img src=\"images/Classification - 4.png\">\n"
   ]
  },
  {
   "cell_type": "markdown",
   "metadata": {},
   "source": [
    "### Another funny thing when using linear regression for classification\n",
    "- We know $y$ is 0 or 1\n",
    "- Linear hypothesis might give values much large than 1 or less than 0 !\n",
    "<img src=\"images/Classification - 5.png\">"
   ]
  },
  {
   "cell_type": "markdown",
   "metadata": {},
   "source": [
    "### We next develope the Logistics Regression Algorithm ...\n",
    "- Logistic Regression generates a values **between 0 and 1**\n",
    "- **Logistic regression is a classification algorithm** - don't be confused"
   ]
  }
 ],
 "metadata": {
  "kernelspec": {
   "display_name": "Python 2",
   "language": "python",
   "name": "python2"
  },
  "language_info": {
   "codemirror_mode": {
    "name": "ipython",
    "version": 2
   },
   "file_extension": ".py",
   "mimetype": "text/x-python",
   "name": "python",
   "nbconvert_exporter": "python",
   "pygments_lexer": "ipython2",
   "version": "2.7.6"
  }
 },
 "nbformat": 4,
 "nbformat_minor": 0
}
