{
 "cells": [
  {
   "cell_type": "markdown",
   "metadata": {},
   "source": [
    "# Classification\n",
    "- Where y is a discrete value\n",
    "- Develop an algorithm to determine what class a new input should fall into"
   ]
  },
  {
   "cell_type": "markdown",
   "metadata": {},
   "source": [
    "### Classification problems\n",
    "  - Email -> spam/not spam?\n",
    "  - Online transactions -> fraudulent?\n",
    "  - Tumor -> Malignant/benign\n",
    "\n",
    "### Variable in these problems is Y\n",
    "- Y is either 0 or 1\n",
    "  <img src=\"images/Classification - 2.png\">\n",
    "\n",
    "### Start with binary class problems\n",
    "  - Later look at multiclass classification problem, although this is just an extension of binary classification"
   ]
  },
  {
   "cell_type": "markdown",
   "metadata": {},
   "source": [
    "## Example\n",
    "Tumour size vs malignancy (0 or 1)\n",
    "<br>\n",
    "- We could try using linear regression\n",
    "  - Then threshold the classifier output (i.e. anything over some value is yes, else no)\n",
    "  - In our example below linear regression with thresholding seems to work\n",
    "  <img src=\"images/Classification - 1.png\">\n",
    "  \n",
    "- We can see above this does a reasonable job of stratifying the data points into one of two classes\n",
    "  <img src=\"images/Classification - 3.png\">\n",
    "<p>\n",
    "- But what if we had a single Yes with a very large tumour?\n",
    "  - This would lead to classifying all the existing *yes*-es as *no*-s\n",
    "  <img src=\"images/Classification - 4.png\">\n"
   ]
  },
  {
   "cell_type": "markdown",
   "metadata": {},
   "source": [
    "### Another funny thing when using linear regression for classification\n",
    "- We know Y is 0 or 1\n",
    "- Linear hypothesis can give values much large than 1 or less than 0 !\n",
    "<img src=\"images/Classification - 5.png\">"
   ]
  },
  {
   "cell_type": "markdown",
   "metadata": {},
   "source": [
    "## Next - we develope the Logistics Regression Algorithm ...\n",
    "- Logistic Regression generates a value where is **always either 0 or 1**\n",
    "- Logistic regression is a *<b><font color=\"#1C3387\">classification algorithm</font></b>* - don't be confused"
   ]
  }
 ],
 "metadata": {
  "kernelspec": {
   "display_name": "Python 2",
   "language": "python",
   "name": "python2"
  },
  "language_info": {
   "codemirror_mode": {
    "name": "ipython",
    "version": 2
   },
   "file_extension": ".py",
   "mimetype": "text/x-python",
   "name": "python",
   "nbconvert_exporter": "python",
   "pygments_lexer": "ipython2",
   "version": "2.7.6"
  }
 },
 "nbformat": 4,
 "nbformat_minor": 0
}
