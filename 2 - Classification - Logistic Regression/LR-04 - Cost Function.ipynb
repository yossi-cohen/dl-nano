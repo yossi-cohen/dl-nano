{
 "cells": [
  {
   "cell_type": "markdown",
   "metadata": {},
   "source": [
    "# <font color=\"bordo\">Logistics Regression - Cost Function</font>"
   ]
  },
  {
   "cell_type": "markdown",
   "metadata": {},
   "source": [
    "## We want to fit the parameters $θ$ to the training set\n",
    "## We start with a set of $m$ training examples\n",
    "<img src=\"images/Cost Function - 1.png\">"
   ]
  },
  {
   "cell_type": "markdown",
   "metadata": {},
   "source": [
    "## Back to the *Cost Function of Linear Regression*\n",
    "- (residual sum-of-squares)\n",
    "<img src=\"images/Cost Function - 2.png\">\n",
    "\n",
    "## If we use this function for logistic regression it does not fit!\n",
    "## this is a *<font color=\"#E30000\">non-convex function</font>* \n",
    "## because the *Sigmoid* function of $h_θ(x)$ is a complicated non-linear function\n",
    "<img src=\"images/Logistics Regression Hypothesis.png\">\n",
    "\n",
    "## We want a convex function so *Gradient Descent* will converge nicely to a global minima\n",
    "  - Lots of local minima mean gradient descent may get stuck in a global minimum\n",
    "<img src=\"images/Cost Function - 4.png\">"
   ]
  },
  {
   "cell_type": "markdown",
   "metadata": {},
   "source": [
    "# A *<font color=\"blue\">convex</font>* logistic regression cost function\n",
    "- To get around this we need a different, *<font color=\"blue\">convex cost function</font>* which means we can apply gradient descent\n",
    "<img src=\"images/Cost Function - 5.png\">\n",
    "- Why do we chose this function when other cost functions exist?\n",
    "  - This cost function can be derived from statistics using the principle \n",
    "    of *<font color=\"blue\">maximum likelihood estimation</font>* *(log likelihood)*\n",
    "  - It also has the nice property of being *<font color=\"blue\">convex</font>*"
   ]
  },
  {
   "cell_type": "markdown",
   "metadata": {},
   "source": [
    "## Plot this function for $(y = 1)$\n",
    "### On the right we can see the shape of the function $log(z)$ and its mirror $-log(z)$\n",
    "### So for $y = 1$, the cost of $h_θ(x)$ evaluates as: $-log(h_θ(x))$\n",
    "<img src=\"images/Cost Function - 6.png\">\n",
    "### The cost is $0$ if $y$ and $h_θ(x)$ agree. Otherwize, it goes to infinity ..."
   ]
  },
  {
   "cell_type": "markdown",
   "metadata": {},
   "source": [
    "## What about if $y = 0$ ?\n",
    "### The cost is evaluated as $-log(1- h_θ(x))$\n",
    "### just get the inverse of the other function\n",
    "### goes to plus infinity as $h_θ(x)$ goes to 1\n",
    "<img src=\"images/Cost Function - 8.png\">"
   ]
  }
 ],
 "metadata": {
  "kernelspec": {
   "display_name": "Python 2",
   "language": "python",
   "name": "python2"
  },
  "language_info": {
   "codemirror_mode": {
    "name": "ipython",
    "version": 2
   },
   "file_extension": ".py",
   "mimetype": "text/x-python",
   "name": "python",
   "nbconvert_exporter": "python",
   "pygments_lexer": "ipython2",
   "version": "2.7.6"
  }
 },
 "nbformat": 4,
 "nbformat_minor": 0
}
