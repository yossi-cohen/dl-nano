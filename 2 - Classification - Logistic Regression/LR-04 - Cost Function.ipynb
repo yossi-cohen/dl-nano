{
 "cells": [
  {
   "cell_type": "markdown",
   "metadata": {},
   "source": [
    "# Logistics Regression - Cost Function\n",
    "## We want to fit the $θ$ parameters to the training set"
   ]
  },
  {
   "cell_type": "markdown",
   "metadata": {},
   "source": [
    "- We start with a set of $m$ training examples\n",
    "<img src=\"images/Cost Function - 1.png\">"
   ]
  },
  {
   "cell_type": "markdown",
   "metadata": {},
   "source": [
    "# Back to the *Cost Function of Linear Regression*\n",
    "- Linear regression uses the following function to determine $J(θ)$\n",
    "  - (residual sum-of-squares)\n",
    "<img src=\"images/Cost Function - 2.png\">\n"
   ]
  },
  {
   "cell_type": "markdown",
   "metadata": {},
   "source": [
    "# Instead of writing the squared error term\n",
    "# we can simplify and redefine $J(θ)$ as:\n",
    "<img src=\"images/Cost Function - 3.png\">"
   ]
  },
  {
   "cell_type": "markdown",
   "metadata": {},
   "source": [
    "# If we use this function for logistic regression \n",
    "# this is a *<font color=\"#E30000\">non-convex function</font>*\n",
    "- ### This is because the *Sigmoid* function of $h_θ(x)$ is a complicated non-linear function\n",
    "<img src=\"images/Logistics Regression Hypothesis.png\">\n",
    "- ### We want a \"convex\" function so that *Gradient Descent* will converge nicely to a global minimum\n",
    "  - Lots of local minima mean gradient descent may not find the global optimum - may get stuck in a global minimum\n",
    "<img src=\"images/Cost Function - 4.png\">"
   ]
  },
  {
   "cell_type": "markdown",
   "metadata": {},
   "source": [
    "# A *<font color=\"#1C3387\">convex</font>* logistic regression cost function\n",
    "- To get around this we need a different, *<font color=\"#1C3387\">convex cost function</font>* which means we can apply gradient descent\n",
    "<img src=\"images/Cost Function - 5.png\">\n",
    "- **Why do we chose this function when other cost functions exist?**\n",
    "  - This cost function can be derived from statistics using the principle \n",
    "    of *<font color=\"#1C3387\">maximum likelihood estimation</font>*\n",
    "    - *(log likelihood)*\n",
    "  - It also has the nice property of being *<font color=\"#1C3387\">convex</font>*"
   ]
  },
  {
   "cell_type": "markdown",
   "metadata": {},
   "source": [
    "# Lets plot this function for $(y = 1)$\n",
    "- On the right we can see the shape of the function $log(z)$ and its mirror $-log(z)$\n",
    "<img src=\"images/Cost Function - 6.png\">"
   ]
  },
  {
   "cell_type": "markdown",
   "metadata": {},
   "source": [
    "# So for $(y = 1)$, the cost of $(h_θ(x))$ evaluates as: *<font color=\"#1C3387\">$-log(h_θ(x))$</font>*\n",
    "## <font color=\"#E30000\">We get cost of $0$ if $y$ and $h_θ(x)$ agree. otherwize, it goes to infinity ...</font>\n",
    "<img src=\"images/Cost Function - 7.png\">"
   ]
  },
  {
   "cell_type": "markdown",
   "metadata": {},
   "source": [
    "# What about if $y = 0$ ?\n",
    "## The cost is evaluated as *<font color=\"#1C3387\">$-log(1- h_θ( x ))$</font>*\n",
    "- ## just get the inverse of the other function\n",
    "- ## goes to plus infinity as $h_θ(x)$ goes to 1\n",
    "<img src=\"images/Cost Function - 8.png\">"
   ]
  },
  {
   "cell_type": "markdown",
   "metadata": {},
   "source": [
    "## With our particular cost functions $J(θ)$ is going to be convex and avoid local minimum :)\n",
    "\n",
    "## Next - simplified cost function and gradient descent ..."
   ]
  }
 ],
 "metadata": {
  "kernelspec": {
   "display_name": "Python 2",
   "language": "python",
   "name": "python2"
  },
  "language_info": {
   "codemirror_mode": {
    "name": "ipython",
    "version": 2
   },
   "file_extension": ".py",
   "mimetype": "text/x-python",
   "name": "python",
   "nbconvert_exporter": "python",
   "pygments_lexer": "ipython2",
   "version": "2.7.6"
  }
 },
 "nbformat": 4,
 "nbformat_minor": 0
}
