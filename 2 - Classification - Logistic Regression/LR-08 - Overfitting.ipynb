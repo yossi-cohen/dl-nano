{
 "cells": [
  {
   "cell_type": "markdown",
   "metadata": {},
   "source": [
    "# <font color=\"bordo\">Overfitting</font>"
   ]
  },
  {
   "cell_type": "markdown",
   "metadata": {},
   "source": [
    "## The problem of overfitting\n",
    "- What is *<font color=\"blue\">overfitting</font>*\n",
    "- What is *<font color=\"blue\">regularization</font>* and how does it help"
   ]
  },
  {
   "cell_type": "markdown",
   "metadata": {},
   "source": [
    "## <font color=\"bordo\">Overfitting with linear regression</font>\n",
    "\n",
    "### Fitting a streight line\n",
    "- Using our house pricing example again\n",
    "- Fit a linear function to the data - ** not a great model **\n",
    "- This is <font color=\"red\">underfitting</font> - \n",
    "  also known as *<font color=\"red\">high bias</font>*\n",
    "  - <font color=\"blue\">Bias</font> - \n",
    "    if we're fitting a straight line to the data we have a strong preconception \n",
    "    that there should be a linear fit.\n",
    "    <br>In this case, this is not correct, but a straight line can't help being straight!\n",
    "  <img src=\"images/underfitting.png\">\n",
    "\n",
    "### Fitting a quadratic function\n",
    "- Works well <font color=\"blue\">(\"just right\")</font>\n",
    "- But goes down when size of house get bigger (not shown in the drawing)\n",
    "  <br>maybe should use **kubic** polinomial...\n",
    "  <img src=\"images/just right.png\">\n",
    "\n",
    "### Fitting a 4th order polynomial\n",
    "- Now curve fit's through <u>all five</u> examples\n",
    "- Seems to do a good job fitting the **training set**\n",
    "- But, despite fitting the data we've provided very well, this is actually not such a good model\n",
    "  - It doesn't generalize well!\n",
    "  - This is <font color=\"red\">overfitting</font> - \n",
    "    also known as *<font color=\"red\">high variance</font>*\n",
    "  <img src=\"images/overfitting.png\">\n",
    "\n",
    "#### Recap\n",
    "If we have too many features then \n",
    "<br>the learned hypothesis may give a cost function of exactly zero\n",
    "  - But this tries too hard to fit the training set\n",
    "  - Fails to provide a general solution - <font color=\"red\">unable to generalize</font> (apply to new examples)"
   ]
  },
  {
   "cell_type": "markdown",
   "metadata": {},
   "source": [
    "## <font color=\"bordo\">Overfitting with logistic regression</font>\n",
    "- Same thing with logistic regression\n",
    "  - Sigmoid function underfits  (high bias)\n",
    "  - High order polynomial overfits (high variance)\n",
    "  <img src=\"images/overfitting with logistics regression.png\">"
   ]
  },
  {
   "cell_type": "markdown",
   "metadata": {},
   "source": [
    "## <font color=\"bordo\">Addressing overfitting</font>\n",
    "### Identifyting overfitting\n",
    "- Later we'll look at identifying <font color=\"blue\">when overfitting and underfitting occurs</font>\n",
    "- <font color=\"blue\">Plotting hypothesis</font> is one way to decide (that it looks \"too curvy\"), \n",
    "  but doesn't always work\n",
    "  - Often have lots of a features - harder to plot the data and visualize to decide which features \n",
    "    to keep and which to drop\n",
    "- If you have <font color=\"red\">lots of features and little data</font> - overfitting can be a problem\n",
    "\n",
    "### How can we deal with this?\n",
    "- <font color=\"blue\">Reduce number of features</font>\n",
    "  - Manually select which features to keep (we may lose some information)\n",
    "- *<font color=\"blue\">Regularization</font>* (next...)\n",
    "  - Keep all features, but <font color=\"blue\">reduce magnitude of parameters $θ$</font>\n",
    "  - Works well when we have a lot of features, each of which contributes a bit to predicting $y$"
   ]
  }
 ],
 "metadata": {
  "kernelspec": {
   "display_name": "Python 2",
   "language": "python",
   "name": "python2"
  },
  "language_info": {
   "codemirror_mode": {
    "name": "ipython",
    "version": 2
   },
   "file_extension": ".py",
   "mimetype": "text/x-python",
   "name": "python",
   "nbconvert_exporter": "python",
   "pygments_lexer": "ipython2",
   "version": "2.7.6"
  }
 },
 "nbformat": 4,
 "nbformat_minor": 0
}
